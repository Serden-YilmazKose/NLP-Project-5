{
 "cells": [
  {
   "cell_type": "code",
   "execution_count": 1,
   "id": "5efe489c-6970-4856-91ea-7a2678dff0a6",
   "metadata": {},
   "outputs": [],
   "source": [
    "import nltk\n",
    "import numpy as np\n",
    "from nltk.corpus import genesis\n",
    "from nltk.corpus import wordnet as wn\n",
    "from nltk.tokenize import word_tokenize\n",
    "from nltk.stem.snowball import SnowballStemmer\n",
    "from sklearn.feature_extraction.text import TfidfVectorizer\n",
    "import pandas as pd"
   ]
  },
  {
   "cell_type": "code",
   "execution_count": 2,
   "id": "6d635285-a473-4424-b307-b2d66d5a64d6",
   "metadata": {},
   "outputs": [],
   "source": [
    "import pandas as pd\n",
    "\n",
    "path = \"./kurrek.2020.slur-corpus.csv\"\n",
    "data = pd.read_csv(path, sep=\",\", header = 0, on_bad_lines='skip')"
   ]
  },
  {
   "cell_type": "code",
   "execution_count": 3,
   "id": "7e5c4f97-620d-4461-ad26-fc348315e624",
   "metadata": {},
   "outputs": [
    {
     "name": "stdout",
     "output_type": "stream",
     "text": [
      "           id    link_id   parent_id  score       subreddit  \\\n",
      "0  t1_c3s59yl   t3_pta2s  t1_c3s22n6   10.0           funny   \n",
      "1  t1_e5li3m3  t3_9e0lfg   t3_9e0lfg   34.0  opieandanthony   \n",
      "2  t1_e5tpq0a  t3_9f3ytm   t3_9f3ytm   61.0  opieandanthony   \n",
      "3  t1_c93xbko  t3_1b5k0c  t1_c93wllg  605.0            pics   \n",
      "4  t1_e1wwfj1  t3_8wj0bg  t1_e1wvjyg    8.0      Guildwars2   \n",
      "\n",
      "                author    slur  \\\n",
      "0            AntiHer0z  tranny   \n",
      "1            cumspaces  tranny   \n",
      "2  SchumersStolenJokes  faggot   \n",
      "3         notarapist72  faggot   \n",
      "4          drasticpear  tranny   \n",
      "\n",
      "                                                body disagreement gold_label  \n",
      "0         Fuck that I dont wanna watch tranny porn.         False        DEG  \n",
      "1  Opie just wanted to have a good time. The same...        False        DEG  \n",
      "2  Fuck that faggot Fallon. Fucking sissy boy act...        False        DEG  \n",
      "3                 BbBB...b.b..b.bb but OP's a faggot        False        DEG  \n",
      "4  Who even uses the word tranny except for trans...        False        NDG  \n"
     ]
    }
   ],
   "source": [
    "print(data.head())"
   ]
  },
  {
   "cell_type": "code",
   "execution_count": 4,
   "id": "3bcb0e8e-0c87-430e-8629-28461ac82f07",
   "metadata": {},
   "outputs": [
    {
     "name": "stdout",
     "output_type": "stream",
     "text": [
      "Trump says nigger right before election.. Securing Hillary the win... \n",
      "\n",
      "A few more fake shootings... Probably in more fucked up places to pull on the heart strings of most americans\n",
      "They still do (want the 30 year olds). It's just a very small % of those 30 year olds that are going to do all the fucking. Many, MANY girls I've fucked from the 18-22 range have an older guy they fuck. Now about 50% of those guys are sponsors in some capacity, but that's still a sizeable number that get to fuck with no strings. \n",
      "\n",
      "Most young women have fucked older men and that isn't changing, especially as the beta faggot production facility of the 2010s has ramped up to max capacity. Most men their age are not really sexual contenders.\n",
      "I listened to some kid do a string of robberies. He kept screaming at the clerk to \"GIMMIE THE MONEY NOW! HURRY UP BITCH GIMMIE THE MONEY NOW!\". He was so fucking serious. I think he was convenience store LARPing or some shit. It was irritating and hilarious. Then he started calling people niggers so I killed him seven times. \n",
      "Looks like we found the guy who likes to get in a tranny train!\n",
      "\n",
      " Do you believe it's morally wrong to jam potato chips up your ass while singing Rick Astley and swallowing a ball on a string? Then pulling on the string so the ball comes halfway up, making you gag and then swallowing it all the way so that it binds your intestines and you need surgery to remove the ball on string?\n",
      "\n",
      "I think what has gone unsaid in this gentleman's comments is the distinction between a nigger and a black person. Allow me to elaborate.\n",
      "\n",
      "**NIGGERS** - Niggers are the annoying, good for nothing, ignorant, obnoxious, slightly to probably retarded, smelly, poor, thieving, rude, grammar impaired \"human beings\" that have brown or black skin and think white people owe them everything. Can often be found in unemployment lines, welfare offices, or running away from police/child support.\n",
      "\n",
      "**BLACK PEOPLE** - Just like everybody else. Grew up with fathers, haven't been ingrained with ghetto culture. Fully capable of stringing together a sentence, holding a job, and otherwise being a functioning, contributing member of society.\n",
      "I think he's called his string of speaking engagements 'The Dangerous Faggot Tour'. I don't think people like this can wrap their heads around this kind of self-referential 'bigotry'. They just know he's definitely bad somehow, maybe they know *some* of it is tongue in cheek but not which bits or that *most* of it is and that's why they don't care to give examples.\n",
      "i've been relistening to old casts, so i guess that's what i did for his bday looking back. \n",
      "\n",
      "the night cast which was followed up by the tranny cast. what a string of two eppies. need another night cast ASAP\n",
      "\n",
      "also, i imagine this to be Matt's inter monologue\n",
      "\n",
      "https://www.youtube.com/watch?v=uWd6XgBVIcg\n",
      "\n",
      "\n",
      "\"Muddy ass dark-skinned thug\" must be ok then because it's just a string of adjectives. And I can say that and nigger cuz i'm a black man.\n",
      "&gt; bullshit story, string up this leftist faggot blogger by his balls\n",
      "\n",
      "This is why we can’t communicate with these far right fuckers\n",
      "when you use the term 'faggot\" in a derogatory manner four times in one day, it is safe to say that you probably harbour some negative feelings toward the group.\n",
      "\n",
      "that said, when I get insanely angry at home alone (99% of the time, it is while playing a singleplayer video game), I sometimes yell \"fucking faggot shit fuck fuck fuck\" like I've got tourette's. it is always that string of words, none omitted, and I instantly feel ashamed that that flew out of my mouth. \n",
      "there is a guy that makes it a habit to walk around a walmart in my hometown, dressed in strings of pearls, a gardening hat, a pink ruffle shirt, a mini skirt, a wedding garter on his leg, and high heel shoes, along with a purse. He looks like an 80's version of madonna. it's super fun to see him and the reactions he brings out in people. also. his wife (or who i assume is his wife?) walks around with him, often in an almost matching outfit. it's great. best part? he wears panty hose but does not shave his legs. or any other part of him for that matter. full beard and mustache, and sports man eyeglasses. rock on old tranny man. rock on. \n",
      "&gt; \n",
      "Why are faggots so outspoken about their sodomy and degeneracy? Like fuck off a keep it to yourself. Always seeking validation from others.\n",
      "\n",
      "wew lad I knew that sub was a dump but they got real juicy after the recent string of bans, didn't they?\n",
      "I have worked for hours to calculate the most likely string of words. This is the result:\n",
      "\n",
      "my son turns 5 and niggers tongue my anus\n",
      "\n",
      "Hope this helps\n",
      "&gt;\"intent, not a particular string of letters, makes a word hateful\"\n",
      "\n",
      "This is the drum I've been beating for years that so many people seem to respond to by putting their fingers in their ears and yelling, \"Lalalala, I'm not listening!\"\n",
      "\n",
      "I'm a tranny, and I'm not afraid of words. Only some people.\n",
      "\n",
      "You can see the string being pulled from the right side of it's \"rear end,\" making it bend.\n",
      "\n",
      "You're a fucking phony faggot, OP.\n",
      "\"I wonder if I said 'string all the niggers up by their necks' how many of my friends would share it, too.\" *picture of Yoda*\n",
      "Until black people stop being *treated as* niggers, then the concept and sentiment behind the word will never die. The word itself, the string of phonemes, isn't what matters, it's a symptom and not the disease.\n",
      "I say this all the time. I'm fucking SICK of the alt-right worshipping that faggot. Doesn't Kikelo know that that the people he defends would string him  up from a tree in a second?\n",
      "How can you jerk off while on acid? All i can think about when I try that is the string of bad decisions and neglectful parenting that led the woman to do such things. Just do what I do and play CSGO surf and call people niggers for hours on end.\n",
      "\n",
      "Edit: inb4 lack of self awareness\n",
      "I was talking about the tranny cuck stringy beard males who make crappy indie games \n",
      "        // If `i` is divisible by 3\n",
      "        // with no remainder, append `Fizz`\n",
      "        if (i % 3 === 0) {\n",
      "            string += 'Fizz';\n",
      "        }\n",
      "\n",
      "[WITH NO REMAINDER](http://a.nigger.cat/ycshgv.png)\n",
      "Wow that's awesome man.  Today my friends called me a faggot.\n",
      "\n",
      "edit: I feel loved\n",
      "\n",
      "edit2: okay guys, a little *too* much love.  Had a real shitty day today and this string of comments just made my day, thanks for the laughs all.\n",
      "I never thought that \"a fancy cursive nigger\" would ever be a string of words to appear \n",
      "Right? For a second i thought that i typed \"fucking yellow faggots posing next to unfunny strings of words\" but i did a second look and my fears were confirmed\n"
     ]
    }
   ],
   "source": [
    "# Iterate rows\n",
    "count = 0\n",
    "ncount = 0\n",
    "for index, row in data.iterrows():\n",
    "    T1, T2 = str(row['id']), str(row['body'])\n",
    "    #similarity_score = Similarity(T1, T2, 0)\n",
    "    #data.at[index, 'Similarity score'] = similarity_score\n",
    "    if \"string\" in T2:\n",
    "        ncount += 1\n",
    "        print(T2)\n",
    "    count += 1\n",
    "    #print(f\"Index: {index}\\nBody: {T2}\"SSSSS)"
   ]
  },
  {
   "cell_type": "code",
   "execution_count": 5,
   "id": "0c3198aa-76d2-4314-8018-ee4880566f65",
   "metadata": {},
   "outputs": [
    {
     "name": "stdout",
     "output_type": "stream",
     "text": [
      "40003\n",
      "24\n"
     ]
    }
   ],
   "source": [
    "print(count)\n",
    "print(ncount)"
   ]
  },
  {
   "cell_type": "code",
   "execution_count": null,
   "id": "9517cca5-1976-49d4-bc3b-2a94fb944a3d",
   "metadata": {},
   "outputs": [],
   "source": [
    "nltk.download('stopwords')\n",
    "nltk.download('punkt')\n",
    "nltk.download('wordnet')\n",
    "nltk.download('genesis')\n",
    "\n",
    "nltk.download('punkt_tab')\n",
    "nltk.download('averaged_perceptron_tagger_eng')\n",
    "nltk.download('averaged_perceptron_tagger')\n",
    "nltk.download('vader_lexicon')"
   ]
  },
  {
   "cell_type": "code",
   "execution_count": null,
   "id": "4c22908e-d507-4fa2-9337-5a2dc9688af5",
   "metadata": {},
   "outputs": [],
   "source": []
  }
 ],
 "metadata": {
  "kernelspec": {
   "display_name": "Python 3 (ipykernel)",
   "language": "python",
   "name": "python3"
  },
  "language_info": {
   "codemirror_mode": {
    "name": "ipython",
    "version": 3
   },
   "file_extension": ".py",
   "mimetype": "text/x-python",
   "name": "python",
   "nbconvert_exporter": "python",
   "pygments_lexer": "ipython3",
   "version": "3.12.6"
  }
 },
 "nbformat": 4,
 "nbformat_minor": 5
}
